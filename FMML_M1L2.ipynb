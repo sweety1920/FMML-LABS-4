{
  "cells": [
    {
      "cell_type": "markdown",
      "metadata": {
        "id": "view-in-github",
        "colab_type": "text"
      },
      "source": [
        "<a href=\"https://colab.research.google.com/github/sweety1920/FMML-LABS-4/blob/main/FMML_M1L2.ipynb\" target=\"_parent\"><img src=\"https://colab.research.google.com/assets/colab-badge.svg\" alt=\"Open In Colab\"/></a>"
      ]
    },
    {
      "cell_type": "markdown",
      "metadata": {
        "id": "3Eu9VZbF01eq"
      },
      "source": [
        "# Machine Learning terms and metrics\n",
        "\n",
        "FMML Module 1, Lab 2\n",
        "\n",
        "In this lab, we will show a part of the ML pipeline by using the California Housing dataset. There are 20640 samples, each with 8 attributes like income of the block, age of the houses per district etc. The task is to predict the cost of the houses per district. We will use the scikit-learn library to load the data and perform some basic data preprocessing and model training. We will also show how to evaluate the model using some common metrics, split the data into training and testing sets, and use cross-validation to get a better estimate of the model's performance."
      ]
    },
    {
      "cell_type": "code",
      "execution_count": null,
      "metadata": {
        "id": "8qBvyEem0vLi"
      },
      "outputs": [],
      "source": [
        "import numpy as np\n",
        "from sklearn import datasets\n",
        "import matplotlib.pyplot as plt\n",
        "\n",
        "rng = np.random.default_rng(seed=42)"
      ]
    },
    {
      "cell_type": "code",
      "execution_count": null,
      "metadata": {
        "colab": {
          "base_uri": "https://localhost:8080/"
        },
        "id": "8LpqjN991GGJ",
        "outputId": "6f379d6f-dc2c-427a-93f7-587d7b909a5a"
      },
      "outputs": [
        {
          "output_type": "stream",
          "name": "stdout",
          "text": [
            ".. _california_housing_dataset:\n",
            "\n",
            "California Housing dataset\n",
            "--------------------------\n",
            "\n",
            "**Data Set Characteristics:**\n",
            "\n",
            "    :Number of Instances: 20640\n",
            "\n",
            "    :Number of Attributes: 8 numeric, predictive attributes and the target\n",
            "\n",
            "    :Attribute Information:\n",
            "        - MedInc        median income in block group\n",
            "        - HouseAge      median house age in block group\n",
            "        - AveRooms      average number of rooms per household\n",
            "        - AveBedrms     average number of bedrooms per household\n",
            "        - Population    block group population\n",
            "        - AveOccup      average number of household members\n",
            "        - Latitude      block group latitude\n",
            "        - Longitude     block group longitude\n",
            "\n",
            "    :Missing Attribute Values: None\n",
            "\n",
            "This dataset was obtained from the StatLib repository.\n",
            "https://www.dcc.fc.up.pt/~ltorgo/Regression/cal_housing.html\n",
            "\n",
            "The target variable is the median house value for California districts,\n",
            "expressed in hundreds of thousands of dollars ($100,000).\n",
            "\n",
            "This dataset was derived from the 1990 U.S. census, using one row per census\n",
            "block group. A block group is the smallest geographical unit for which the U.S.\n",
            "Census Bureau publishes sample data (a block group typically has a population\n",
            "of 600 to 3,000 people).\n",
            "\n",
            "A household is a group of people residing within a home. Since the average\n",
            "number of rooms and bedrooms in this dataset are provided per household, these\n",
            "columns may take surprisingly large values for block groups with few households\n",
            "and many empty houses, such as vacation resorts.\n",
            "\n",
            "It can be downloaded/loaded using the\n",
            ":func:`sklearn.datasets.fetch_california_housing` function.\n",
            "\n",
            ".. topic:: References\n",
            "\n",
            "    - Pace, R. Kelley and Ronald Barry, Sparse Spatial Autoregressions,\n",
            "      Statistics and Probability Letters, 33 (1997) 291-297\n",
            "\n"
          ]
        }
      ],
      "source": [
        "dataset = datasets.fetch_california_housing()\n",
        "# Dataset description\n",
        "print(dataset.DESCR)"
      ]
    },
    {
      "cell_type": "markdown",
      "metadata": {
        "id": "PCe1VNftevgE"
      },
      "source": [
        "Given below are the list of target values. These correspond to the house value derived considering all the 8 input features and are continuous values. We should use regression models to predict these values but we will start with a simple classification model for the sake of simplicity. We need to just round off the values to the nearest integer and use a classification model to predict the house value."
      ]
    },
    {
      "cell_type": "code",
      "execution_count": null,
      "metadata": {
        "colab": {
          "base_uri": "https://localhost:8080/"
        },
        "id": "F8K0ggBOevgE",
        "outputId": "f71dd070-d8a0-41e1-b595-107fec9f47e8"
      },
      "outputs": [
        {
          "output_type": "stream",
          "name": "stdout",
          "text": [
            "Orignal target values: [4.526 3.585 3.521 ... 0.923 0.847 0.894]\n",
            "Target values after conversion: [4 3 3 ... 0 0 0]\n",
            "Input variables shape: (20640, 8)\n",
            "Output variables shape: (20640,)\n"
          ]
        }
      ],
      "source": [
        "print(\"Orignal target values:\", dataset.target)\n",
        "\n",
        "dataset.target = dataset.target.astype(int)\n",
        "\n",
        "print(\"Target values after conversion:\", dataset.target)\n",
        "print(\"Input variables shape:\", dataset.data.shape)\n",
        "print(\"Output variables shape:\", dataset.target.shape)"
      ]
    },
    {
      "cell_type": "markdown",
      "metadata": {
        "id": "iNx4174W5xRg"
      },
      "source": [
        "The simplest model to use for classification is the K-Nearest Neighbors model. We will use this model to predict the house value with a K value of 1. We will also use the accuracy metric to evaluate the model."
      ]
    },
    {
      "cell_type": "code",
      "execution_count": null,
      "metadata": {
        "id": "07zpydQj1hIQ"
      },
      "outputs": [],
      "source": [
        "def NN1(traindata, trainlabel, query):\n",
        "    \"\"\"\n",
        "    This function takes in the training data, training labels and a query point\n",
        "    and returns the predicted label for the query point using the nearest neighbour algorithm\n",
        "\n",
        "    traindata: numpy array of shape (n,d) where n is the number of samples and d is the number of features\n",
        "    trainlabel: numpy array of shape (n,) where n is the number of samples\n",
        "    query: numpy array of shape (d,) where d is the number of features\n",
        "\n",
        "    returns: the predicted label for the query point which is the label of the training data which is closest to the query point\n",
        "    \"\"\"\n",
        "    diff = (\n",
        "        traindata - query\n",
        "    )  # find the difference between features. Numpy automatically takes care of the size here\n",
        "    sq = diff * diff  # square the differences\n",
        "    dist = sq.sum(1)  # add up the squares\n",
        "    label = trainlabel[np.argmin(dist)]\n",
        "    return label\n",
        "\n",
        "\n",
        "def NN(traindata, trainlabel, testdata):\n",
        "    \"\"\"\n",
        "    This function takes in the training data, training labels and test data\n",
        "    and returns the predicted labels for the test data using the nearest neighbour algorithm\n",
        "\n",
        "    traindata: numpy array of shape (n,d) where n is the number of samples and d is the number of features\n",
        "    trainlabel: numpy array of shape (n,) where n is the number of samples\n",
        "    testdata: numpy array of shape (m,d) where m is the number of test samples and d is the number of features\n",
        "\n",
        "    returns: the predicted labels for the test data which is the label of the training data which is closest to each test point\n",
        "    \"\"\"\n",
        "    predlabel = np.array([NN1(traindata, trainlabel, i) for i in testdata])\n",
        "    return predlabel"
      ]
    },
    {
      "cell_type": "markdown",
      "metadata": {
        "id": "03JktkfIGaje"
      },
      "source": [
        "We will also define a 'random classifier', which randomly allots labels to each sample"
      ]
    },
    {
      "cell_type": "code",
      "execution_count": null,
      "metadata": {
        "id": "fogWAtjyGhAH"
      },
      "outputs": [],
      "source": [
        "def RandomClassifier(traindata, trainlabel, testdata):\n",
        "    \"\"\"\n",
        "    This function takes in the training data, training labels and test data\n",
        "    and returns the predicted labels for the test data using the random classifier algorithm\n",
        "\n",
        "    In reality, we don't need these arguments but we are passing them to keep the function signature consistent with other classifiers\n",
        "\n",
        "    traindata: numpy array of shape (n,d) where n is the number of samples and d is the number of features\n",
        "    trainlabel: numpy array of shape (n,) where n is the number of samples\n",
        "    testdata: numpy array of shape (m,d) where m is the number of test samples and d is the number of features\n",
        "\n",
        "    returns: the predicted labels for the test data which is a random label from the training data\n",
        "    \"\"\"\n",
        "\n",
        "    classes = np.unique(trainlabel)\n",
        "    rints = rng.integers(low=0, high=len(classes), size=len(testdata))\n",
        "    predlabel = classes[rints]\n",
        "    return predlabel"
      ]
    },
    {
      "cell_type": "markdown",
      "metadata": {
        "id": "1Hjf1KHs7fU5"
      },
      "source": [
        "We need a metric to evaluate the performance of the model. Let us define a metric 'Accuracy' to see how good our learning algorithm is. Accuracy is the ratio of the number of correctly classified samples to the total number of samples. The higher the accuracy, the better the algorithm. We will use the accuracy metric to evaluate and compate the performance of the K-Nearest Neighbors model and the random classifier."
      ]
    },
    {
      "cell_type": "code",
      "execution_count": null,
      "metadata": {
        "id": "ouuCqWU07bz-"
      },
      "outputs": [],
      "source": [
        "def Accuracy(gtlabel, predlabel):\n",
        "    \"\"\"\n",
        "    This function takes in the ground-truth labels and predicted labels\n",
        "    and returns the accuracy of the classifier\n",
        "\n",
        "    gtlabel: numpy array of shape (n,) where n is the number of samples\n",
        "    predlabel: numpy array of shape (n,) where n is the number of samples\n",
        "\n",
        "    returns: the accuracy of the classifier which is the number of correct predictions divided by the total number of predictions\n",
        "    \"\"\"\n",
        "    assert len(gtlabel) == len(\n",
        "        predlabel\n",
        "    ), \"Length of the ground-truth labels and predicted labels should be the same\"\n",
        "    correct = (\n",
        "        gtlabel == predlabel\n",
        "    ).sum()  # count the number of times the groundtruth label is equal to the predicted label.\n",
        "    return correct / len(gtlabel)"
      ]
    },
    {
      "cell_type": "markdown",
      "metadata": {
        "id": "4vJFwBFa9Klw"
      },
      "source": [
        "Let us make a function to split the dataset with the desired probability. We will use this function to split the dataset into training and testing sets. We will use the training set to train the model and the testing set to evaluate the model."
      ]
    },
    {
      "cell_type": "code",
      "execution_count": null,
      "metadata": {
        "id": "Ko0VzpSM2Tdi"
      },
      "outputs": [],
      "source": [
        "def split(data, label, percent):\n",
        "    # generate a random number for each sample\n",
        "    rnd = rng.random(len(label))\n",
        "    split1 = rnd < percent\n",
        "    split2 = rnd >= percent\n",
        "\n",
        "    split1data = data[split1, :]\n",
        "    split1label = label[split1]\n",
        "    split2data = data[split2, :]\n",
        "    split2label = label[split2]\n",
        "    return split1data, split1label, split2data, split2label"
      ]
    },
    {
      "cell_type": "markdown",
      "metadata": {
        "id": "AcK3LEAJ_LGC"
      },
      "source": [
        "We will reserve 20% of our dataset as the test set. We will not change this portion throughout our experiments"
      ]
    },
    {
      "cell_type": "code",
      "execution_count": null,
      "metadata": {
        "colab": {
          "base_uri": "https://localhost:8080/"
        },
        "id": "bBZkHBLJ1iU-",
        "outputId": "73ffc0bd-354d-4051-f17a-c6adebdd58fe"
      },
      "outputs": [
        {
          "output_type": "stream",
          "name": "stdout",
          "text": [
            "Number of test samples: 4144\n",
            "Number of train samples: 16496\n",
            "Percent of test data: 20.07751937984496 %\n"
          ]
        }
      ],
      "source": [
        "testdata, testlabel, alltraindata, alltrainlabel = split(\n",
        "    dataset.data, dataset.target, 20 / 100\n",
        ")\n",
        "print(\"Number of test samples:\", len(testlabel))\n",
        "print(\"Number of train samples:\", len(alltrainlabel))\n",
        "print(\"Percent of test data:\", len(testlabel) * 100 / len(dataset.target), \"%\")"
      ]
    },
    {
      "cell_type": "markdown",
      "metadata": {
        "id": "a6Ss0Z6IAGNV"
      },
      "source": [
        "## Experiments with splits\n",
        "\n",
        "Let us reserve some of our train data as a validation set"
      ]
    },
    {
      "cell_type": "code",
      "execution_count": null,
      "metadata": {
        "id": "WFew2iry_7W7"
      },
      "outputs": [],
      "source": [
        "traindata, trainlabel, valdata, vallabel = split(\n",
        "    alltraindata, alltrainlabel, 75 / 100)"
      ]
    },
    {
      "cell_type": "markdown",
      "metadata": {
        "id": "60hiu4clFN1i"
      },
      "source": [
        "What is the accuracy of our classifiers on the train dataset?"
      ]
    },
    {
      "cell_type": "code",
      "execution_count": null,
      "metadata": {
        "colab": {
          "base_uri": "https://localhost:8080/"
        },
        "id": "DBlZDTHUFTZx",
        "outputId": "2d0ed616-7ece-4d8f-8f8d-cb1eb48f7385"
      },
      "outputs": [
        {
          "output_type": "stream",
          "name": "stdout",
          "text": [
            "Training accuracy using nearest neighbour algorithm: 100.0 %\n",
            "Training accuracy using random classifier:  16.4375808538163 %\n"
          ]
        }
      ],
      "source": [
        "trainpred = NN(traindata, trainlabel, traindata)\n",
        "trainAccuracy = Accuracy(trainlabel, trainpred)\n",
        "print(\"Training accuracy using nearest neighbour algorithm:\", trainAccuracy*100, \"%\")\n",
        "\n",
        "trainpred = RandomClassifier(traindata, trainlabel, traindata)\n",
        "trainAccuracy = Accuracy(trainlabel, trainpred)\n",
        "print(\"Training accuracy using random classifier: \", trainAccuracy*100, \"%\")"
      ]
    },
    {
      "cell_type": "markdown",
      "metadata": {
        "id": "7h08-9gJDtSy"
      },
      "source": [
        "For nearest neighbour, the train accuracy is always 1. The accuracy of the random classifier is close to 1/(number of classes) which is 0.1666 in our case. This is because the random classifier randomly assigns a label to each sample and the probability of assigning the correct label is 1/(number of classes). Let us predict the labels for our validation set and get the accuracy. This accuracy is a good estimate of the accuracy of our model on unseen data."
      ]
    },
    {
      "cell_type": "code",
      "execution_count": null,
      "metadata": {
        "colab": {
          "base_uri": "https://localhost:8080/"
        },
        "id": "4h7bXoW_2H3v",
        "outputId": "ab09a4be-1b0e-4db2-ef67-a4b5f41c48fe"
      },
      "outputs": [
        {
          "output_type": "stream",
          "name": "stdout",
          "text": [
            "Validation accuracy using nearest neighbour algorithm: 34.10852713178294 %\n",
            "Validation accuracy using random classifier: 16.884689922480618 %\n"
          ]
        }
      ],
      "source": [
        "valpred = NN(traindata, trainlabel, valdata)\n",
        "valAccuracy = Accuracy(vallabel, valpred)\n",
        "print(\"Validation accuracy using nearest neighbour algorithm:\", valAccuracy*100, \"%\")\n",
        "\n",
        "\n",
        "valpred = RandomClassifier(traindata, trainlabel, valdata)\n",
        "valAccuracy = Accuracy(vallabel, valpred)\n",
        "print(\"Validation accuracy using random classifier:\", valAccuracy*100, \"%\")"
      ]
    },
    {
      "cell_type": "markdown",
      "metadata": {
        "id": "py9bLguFEjfg"
      },
      "source": [
        "Validation accuracy of nearest neighbour is considerably less than its train accuracy while the validation accuracy of random classifier is the same. However, the validation accuracy of nearest neighbour is twice that of the random classifier. Now let us try another random split and check the validation accuracy. We will see that the validation accuracy changes with the split. This is because the validation set is small and the accuracy is highly dependent on the samples in the validation set. We can get a better estimate of the accuracy by using cross-validation."
      ]
    },
    {
      "cell_type": "code",
      "execution_count": null,
      "metadata": {
        "colab": {
          "base_uri": "https://localhost:8080/"
        },
        "id": "ujm3cyYzEntE",
        "outputId": "8e5506e9-474c-4fd6-d7a6-b14aa1b8b8d1"
      },
      "outputs": [
        {
          "output_type": "stream",
          "name": "stdout",
          "text": [
            "Validation accuracy using nearest neighbour algorithm: 34.048257372654156 %\n"
          ]
        }
      ],
      "source": [
        "traindata, trainlabel, valdata, vallabel = split(\n",
        "    alltraindata, alltrainlabel, 75 / 100)\n",
        "valpred = NN(traindata, trainlabel, valdata)\n",
        "valAccuracy = Accuracy(vallabel, valpred)\n",
        "print(\"Validation accuracy using nearest neighbour algorithm:\", valAccuracy*100, \"%\")"
      ]
    },
    {
      "cell_type": "markdown",
      "metadata": {
        "id": "oSOx7U83EKie"
      },
      "source": [
        "You can run the above cell multiple times to try with different random splits.\n",
        "We notice that the accuracy is different for each run, but close together.\n",
        "\n",
        "Now let us compare it with the accuracy we get on the test dataset."
      ]
    },
    {
      "cell_type": "code",
      "execution_count": null,
      "metadata": {
        "colab": {
          "base_uri": "https://localhost:8080/"
        },
        "id": "PNEZ5ToYBEDW",
        "outputId": "2487fee9-0efc-4ce9-8b76-c8fd90b0c94a"
      },
      "outputs": [
        {
          "output_type": "stream",
          "name": "stdout",
          "text": [
            "Test accuracy: 34.91795366795367 %\n"
          ]
        }
      ],
      "source": [
        "testpred = NN(alltraindata, alltrainlabel, testdata)\n",
        "testAccuracy = Accuracy(testlabel, testpred)\n",
        "\n",
        "print(\"Test accuracy:\", testAccuracy*100, \"%\")"
      ]
    },
    {
      "cell_type": "markdown",
      "metadata": {
        "id": "w3dGD531K3gH"
      },
      "source": [
        "### Try it out for yourself and answer:\n",
        "1. How is the accuracy of the validation set affected if we increase the percentage of validation set? What happens when we reduce it?\n",
        "2. How does the size of the train and validation set affect how well we can predict the accuracy on the test set using the validation set?\n",
        "3. What do you think is a good percentage to reserve for the validation set so that thest two factors are balanced?\n",
        "\n",
        "Answer for both nearest neighbour and random classifier. You can note down the values for your experiments and plot a graph using  <a href=https://matplotlib.org/stable/gallery/lines_bars_and_markers/step_demo.html#sphx-glr-gallery-lines-bars-and-markers-step-demo-py>plt.plot<href>. Check also for extreme values for splits, like 99.9% or 0.1%"
      ]
    },
    {
      "cell_type": "markdown",
      "metadata": {
        "id": "M9zvdYY6evgI"
      },
      "source": [
        "> Exercise: Try to implement a 3 nearest neighbour classifier and compare the accuracy of the 1 nearest neighbour classifier and the 3 nearest neighbour classifier on the test dataset. You can use the KNeighborsClassifier class from the scikit-learn library to implement the K-Nearest Neighbors model. You can set the number of neighbors using the n_neighbors parameter. You can also use the accuracy_score function from the scikit-learn library to calculate the accuracy of the model."
      ]
    },
    {
      "cell_type": "markdown",
      "metadata": {
        "id": "PnYvkAZLQY7h"
      },
      "source": [
        "## Multiple Splits\n",
        "\n",
        "One way to get more accurate estimates for the test accuracy is by using <b>cross-validation</b>. Here, we will try a simple version, where we do multiple train/val splits and take the average of validation accuracies as the test accuracy estimation. Here is a function for doing this. Note that this function will take a long time to execute. You can reduce the number of splits to make it faster."
      ]
    },
    {
      "cell_type": "code",
      "execution_count": null,
      "metadata": {
        "id": "E4nGCUQXBTzo"
      },
      "outputs": [],
      "source": [
        "def AverageAccuracy(alldata, alllabel, splitpercent, iterations, classifier=NN):\n",
        "    \"\"\"\n",
        "    This function takes in the data, labels, split percentage, number of iterations and classifier function\n",
        "    and returns the average accuracy of the classifier\n",
        "\n",
        "    alldata: numpy array of shape (n,d) where n is the number of samples and d is the number of features\n",
        "    alllabel: numpy array of shape (n,) where n is the number of samples\n",
        "    splitpercent: float which is the percentage of data to be used for training\n",
        "    iterations: int which is the number of iterations to run the classifier\n",
        "    classifier: function which is the classifier function to be used\n",
        "\n",
        "    returns: the average accuracy of the classifier\n",
        "    \"\"\"\n",
        "    accuracy = 0\n",
        "    for ii in range(iterations):\n",
        "        traindata, trainlabel, valdata, vallabel = split(\n",
        "            alldata, alllabel, splitpercent\n",
        "        )\n",
        "        valpred = classifier(traindata, trainlabel, valdata)\n",
        "        accuracy += Accuracy(vallabel, valpred)\n",
        "    return accuracy / iterations  # average of all accuracies"
      ]
    },
    {
      "cell_type": "code",
      "execution_count": null,
      "metadata": {
        "colab": {
          "base_uri": "https://localhost:8080/"
        },
        "id": "H3qtNar7Bbik",
        "outputId": "5a5a53ec-beea-4f7f-cefc-79f74cceb1bd"
      },
      "outputs": [
        {
          "output_type": "stream",
          "name": "stdout",
          "text": [
            "Average validation accuracy: 33.58463539517022 %\n",
            "Test accuracy: 34.91795366795367 %\n"
          ]
        }
      ],
      "source": [
        "avg_acc = AverageAccuracy(alltraindata, alltrainlabel, 75 / 100, 10, classifier=NN)\n",
        "print(\"Average validation accuracy:\", avg_acc*100, \"%\")\n",
        "testpred = NN(alltraindata, alltrainlabel, testdata)\n",
        "\n",
        "print(\"Test accuracy:\", Accuracy(testlabel, testpred)*100, \"%\")"
      ]
    },
    {
      "cell_type": "markdown",
      "metadata": {
        "id": "33GIn4x5VH-d"
      },
      "source": [
        "This is a very simple way of doing cross-validation. There are many well-known algorithms for cross-validation, like k-fold cross-validation, leave-one-out etc. This will be covered in detail in a later module. For more information about cross-validation, check <a href=https://en.wikipedia.org/wiki/Cross-validation_(statistics)>Cross-validatioin (Wikipedia)</a>\n",
        "\n",
        "### Questions\n",
        "1. Does averaging the validation accuracy across multiple splits give more consistent results?\n",
        "\n",
        "Yes, averaging the validation accuracy across multiple splits generally **gives more consistent and reliable results**. This approach is part of a technique known as **cross-validation**, and it helps mitigate some of the variability or bias that might occur when evaluating a model on a single train-test split.\n",
        "\n",
        "Here’s a deeper explanation of why averaging across multiple splits provides more consistent results:\n",
        "\n",
        "### 1. **Reduction of Variance in Model Evaluation**\n",
        "   - **Single Train-Test Split**: When you evaluate a model on a single train-test split, the performance might be overly optimistic or pessimistic depending on the specific characteristics of the data that happened to be in the training and validation sets. For example, if the validation set happens to be harder (or easier) than average, you might get an unrepresentative estimate of the model's true performance.\n",
        "   - **Multiple Splits (Cross-Validation)**: By performing cross-validation, you use multiple different splits of the data for training and testing. For instance, in **k-fold cross-validation**, the data is split into **k** subsets, and the model is trained **k times**, each time using a different subset as the validation set and the remaining subsets for training. The performance scores (e.g., accuracy) from all **k** splits are then averaged to provide a more robust and reliable estimate of the model’s performance.\n",
        "\n",
        "### 2. **Better Generalization**\n",
        "   - By averaging over multiple splits, the model is evaluated across different subsets of the data. This helps ensure that the model is **not overfitting** to a particular subset or becoming too sensitive to specific data points. It forces the model to generalize better across various unseen portions of the data.\n",
        "   - This is especially important when the data is small or if the data has a high degree of variability. Cross-validation reduces the likelihood of a model being evaluated on an unrepresentative test set, which could lead to misleading results.\n",
        "\n",
        "### 3. **Mitigation of Overfitting**\n",
        "   - **Overfitting** happens when a model learns the noise or specific patterns from the training data that don't generalize well to unseen data. Using multiple splits helps in **averaging out the effects of overfitting** to any specific subset of the data, as the model is evaluated on different data points each time.\n",
        "   - For example, if the model overfits the first split but performs well on others, averaging the results will give a more honest performance estimate, helping to detect overfitting and ensuring the model is more likely to generalize to new data.\n",
        "\n",
        "### 4. **Improved Model Tuning**\n",
        "   - Cross-validation allows for more reliable comparison of different models or hyperparameter settings. For instance, when tuning hyperparameters (like learning rate, batch size, or number of layers in a neural network), the validation accuracy from a single split might mislead you. However, if you use cross-validation, the model's performance is averaged across multiple different datasets, making it easier to detect whether a particular configuration consistently performs well or poorly.\n",
        "\n",
        "### 5. **Handling Data Imbalance**\n",
        "   - When the data is imbalanced (e.g., there are many more examples of one class than another), a single train-test split might lead to an unrepresentative validation set, which could affect the accuracy. However, by averaging the performance over multiple splits (and using stratified k-fold cross-validation, if necessary), you ensure that each class is well-represented in both the training and validation sets. This gives a more balanced and consistent measure of performance.\n",
        "\n",
        "### 6. **Potential Limitations**\n",
        "While averaging across multiple splits gives more consistent results, it’s important to note that:\n",
        "   - **Computational Cost**: Cross-validation can be more computationally expensive, especially with a large dataset or if you're using a complex model (like deep learning). This is because you are training the model multiple times, which requires more time and resources.\n",
        "   - **Training Data Leakage**: If there’s data leakage between the training and validation sets in any split, the results might still be biased. Careful cross-validation procedures should be followed to avoid this.\n",
        "\n",
        "### Common Cross-Validation Approaches:\n",
        "   1. **K-Fold Cross-Validation**: The data is split into **k** subsets (folds). The model is trained **k** times, with each fold used as the validation set once, and the remaining folds as the training set. The performance metrics are averaged over the **k** iterations. Typical values for **k** are 5 or 10.\n",
        "   2. **Stratified K-Fold Cross-Validation**: In stratified k-fold cross-validation, the data is split such that the proportion of each class in each fold is approximately the same as in the entire dataset. This is especially important in classification tasks with imbalanced classes.\n",
        "   3. **Leave-One-Out Cross-Validation (LOOCV)**: A special case where **k** equals the number of data points. In each iteration, one data point is used as the validation set, and the rest of the data points are used for training. This can be very computationally expensive for large datasets but is sometimes used when the dataset is small.\n",
        "\n",
        "### Example:\n",
        "Let’s assume you have a dataset with 1000 samples, and you perform 5-fold cross-validation. The model will be trained 5 times, each time on 800 samples and validated on 200 samples (the fold used for validation). The accuracy from each fold is calculated, and the final performance is the **average** of these 5 accuracy scores.\n",
        "\n",
        "This will give a more robust estimate of the model’s performance than evaluating it on a single split, where the choice of training and validation sets can significantly influence the results.\n",
        "\n",
        "---\n",
        "\n",
        "### Conclusion:\n",
        "Averaging the validation accuracy across multiple splits helps to **smooth out fluctuations** in the performance and gives a **more reliable, consistent estimate** of how well a model will perform on unseen data. It reduces bias and variance, helps with model tuning, and provides a better generalization to real-world use cases. For this reason, cross-validation is a widely-used method in machine learning and statistical modeling to evaluate and compare model performance.\n",
        "\n",
        "2. Does it give more accurate estimate of test accuracy?\n",
        "To evaluate whether a method gives a more accurate estimate of test accuracy, you need to consider several factors:\n",
        "\n",
        "1. **Methodology of Evaluation**:\n",
        "   - **Holdout Validation**: This involves splitting the dataset into training and testing subsets. The estimate can be inaccurate if the test set is not representative of the dataset or if the sample size is small.\n",
        "   - **Cross-Validation**: Techniques like k-fold cross-validation typically provide more robust accuracy estimates by using different parts of the dataset for training and testing multiple times. This helps reduce variance due to data splitting.\n",
        "   - **Bootstrap Resampling**: This method involves repeatedly sampling with replacement to estimate the accuracy. It can provide insight into variability but may not be as straightforward as cross-validation.\n",
        "\n",
        "2. **Size and Representativeness of the Dataset**:\n",
        "   - Smaller datasets can lead to higher variability in test accuracy estimates. Larger, well-represented datasets generally yield more reliable estimates.\n",
        "\n",
        "3. **Bias-Variance Tradeoff**:\n",
        "   - Simpler methods may have higher bias but lower variance. Cross-validation balances this tradeoff better than simple holdout validation.\n",
        "\n",
        "4. **Overfitting Concerns**:\n",
        "   - When selecting models or hyperparameters, it’s essential to use a separate validation set or nested cross-validation. Evaluating on the same dataset used for model selection leads to overestimated accuracy.\n",
        "\n",
        "5. **Real-World Distribution**:\n",
        "   - The estimate's accuracy depends on how well the test set mimics the real-world data distribution. If there’s a mismatch, even advanced methods might not give an accurate reflection of real-world performance.\n",
        "\n",
        "If your question refers to a specific method or context, feel free to provide more details for a tailored response.\n",
        "\n",
        "\n",
        "3. What is the effect of the number of iterations on the estimate? Do we get a better estimate with higher iterations?\n",
        "The number of iterations in an evaluation process (such as cross-validation or bootstrap resampling) significantly affects the reliability of the estimate. Here’s a detailed look at the effects:\n",
        "\n",
        "### **Effects of Increasing the Number of Iterations**\n",
        "1. **Reduced Variance**:\n",
        "   - As the number of iterations increases, the variance of the accuracy estimate decreases. Each additional iteration provides more data points, resulting in a more stable and reliable estimate.\n",
        "\n",
        "2. **Better Representation of Dataset Variability**:\n",
        "   - Higher iterations ensure that more combinations of the data are evaluated, particularly in methods like k-fold cross-validation with repetition or bootstrapping. This helps capture variations in the data and provides a better overall estimate of model performance.\n",
        "\n",
        "3. **Improved Robustness**:\n",
        "   - The estimate becomes less sensitive to any particular random split of the data. This is especially important for datasets with uneven distributions or outliers.\n",
        "\n",
        "4. **Diminishing Returns**:\n",
        "   - While increasing iterations improves the estimate, the improvement diminishes after a certain point. Beyond a threshold, the gain in accuracy precision might not justify the additional computational cost.\n",
        "\n",
        "---\n",
        "\n",
        "### **When Higher Iterations Help**\n",
        "- **Small Datasets**: For small datasets, a higher number of iterations compensates for the lack of data by making better use of the available samples.\n",
        "- **High Variability**: If the performance varies significantly across different splits of the data, more iterations provide a clearer picture of the model’s average performance.\n",
        "\n",
        "---\n",
        "\n",
        "### **When Higher Iterations Might Not Help**\n",
        "1. **Overfitting on Validation Procedure**:\n",
        "   - If the procedure becomes excessively detailed (e.g., repeating cross-validation too many times), it might reflect noise in the data rather than true performance.\n",
        "\n",
        "2. **Computational Cost**:\n",
        "   - Higher iterations can be computationally expensive, particularly for large datasets or complex models.\n",
        "\n",
        "3. **Bias in Evaluation Design**:\n",
        "   - If there’s inherent bias (e.g., data leakage or unrepresentative splits), increasing iterations won't fix the underlying issue.\n",
        "\n",
        "---\n",
        "\n",
        "### **Key Takeaways**\n",
        "- Higher iterations generally lead to better estimates due to reduced variance and improved stability.\n",
        "- The benefit of additional iterations diminishes over time, with a practical balance between computational cost and accuracy improvement being ideal.\n",
        "- For most scenarios, repeated k-fold cross-validation (e.g., 10-fold repeated 3–5 times) provides a good balance between accuracy and efficiency.\n",
        "\n",
        "4. Consider the results you got for the previous questions. Can we deal with a very small train dataset or validation dataset by increasing the iterations?\n",
        "Using a very small training or validation dataset poses challenges, even if you increase the number of iterations. Here's an analysis based on the previous discussion:\n",
        "\n",
        "---\n",
        "\n",
        "### **Can Increasing Iterations Compensate for a Small Dataset?**\n",
        "\n",
        "1. **Advantages of Higher Iterations**:\n",
        "   - **Maximized Use of Available Data**:\n",
        "     - Techniques like repeated k-fold cross-validation or bootstrapping use the data multiple times, leveraging limited data more effectively.\n",
        "   - **Reduced Variance**:\n",
        "     - By increasing the number of iterations, you can smooth out fluctuations caused by small dataset variability, providing a more stable estimate of model performance.\n",
        "\n",
        "2. **Limitations of Small Datasets**:\n",
        "   - **Lack of Representativeness**:\n",
        "     - If the training dataset is too small, it may not adequately represent the underlying data distribution, leading to biased model performance, no matter how many iterations are used.\n",
        "   - **Overfitting Risk**:\n",
        "     - Small training datasets make models prone to overfitting, as they may memorize the training examples rather than learning generalizable patterns.\n",
        "   - **Validation Bias**:\n",
        "     - With a small validation set, performance metrics can be overly optimistic or pessimistic, as they depend heavily on the specific data points included.\n",
        "\n",
        "---\n",
        "\n",
        "### **Strategies for Small Datasets**:\n",
        "1. **Data Augmentation**:\n",
        "   - If applicable, use techniques to synthetically increase the dataset size, such as rotations, scaling, or noise addition (common in image and text domains).\n",
        "   \n",
        "2. **Simpler Models**:\n",
        "   - Use models with fewer parameters that are less prone to overfitting on small datasets (e.g., linear models or regularized regression).\n",
        "\n",
        "3. **Leave-One-Out Cross-Validation (LOOCV)**:\n",
        "   - This is particularly useful for small datasets as it maximizes the training data while still providing an independent validation estimate for each point. However, it can be computationally expensive.\n",
        "\n",
        "4. **Transfer Learning**:\n",
        "   - If the dataset is small, leveraging pre-trained models (for example, in deep learning) can mitigate the lack of sufficient training data.\n",
        "\n",
        "5. **Bayesian or Probabilistic Approaches**:\n",
        "   - Bayesian methods can better handle uncertainty in predictions caused by small datasets.\n",
        "\n",
        "---\n",
        "\n",
        "### **Key Takeaways**:\n",
        "- **Increasing iterations** helps mitigate variability and improve the reliability of the performance estimate for small datasets.\n",
        "- However, it **cannot compensate** for the inherent limitations of a small dataset, such as lack of representativeness or overfitting risks.\n",
        "- To handle small datasets effectively, combine higher iterations with data augmentation, simpler models, or external information (e.g., pre-trained models or priors)."
      ]
    },
    {
      "cell_type": "markdown",
      "metadata": {
        "id": "z-SBxy1qevgJ"
      },
      "source": [
        "> Exercise: How does the accuracy of the 3 nearest neighbour classifier change with the number of splits? How is it affected by the split size? Compare the results with the 1 nearest neighbour classifier."
      ]
    }
  ],
  "metadata": {
    "colab": {
      "provenance": [],
      "include_colab_link": true
    },
    "kernelspec": {
      "display_name": "Python 3",
      "name": "python3"
    },
    "language_info": {
      "codemirror_mode": {
        "name": "ipython",
        "version": 3
      },
      "file_extension": ".py",
      "mimetype": "text/x-python",
      "name": "python",
      "nbconvert_exporter": "python",
      "pygments_lexer": "ipython3",
      "version": "3.10.10"
    }
  },
  "nbformat": 4,
  "nbformat_minor": 0
}